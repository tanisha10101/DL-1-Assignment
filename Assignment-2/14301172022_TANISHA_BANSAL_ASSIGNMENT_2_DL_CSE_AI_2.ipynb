{
  "nbformat": 4,
  "nbformat_minor": 0,
  "metadata": {
    "colab": {
      "provenance": []
    },
    "kernelspec": {
      "name": "python3",
      "display_name": "Python 3"
    },
    "language_info": {
      "name": "python"
    }
  },
  "cells": [
    {
      "cell_type": "markdown",
      "source": [
        "**SUBMITTED BY:-**\n",
        "\n",
        "**NAME:-** TANISHA BANSAL\n",
        "\n",
        "**BRANCH:-** CSE-AI-2\n",
        "\n",
        "**ROLL NO:-** 14301172022\n",
        "\n",
        "**SUBMISSION DATE:-** 25th August 2024\n",
        "\n",
        "**COURSE:-** DEEP LEARNING ASSIGNMENT - 2"
      ],
      "metadata": {
        "id": "9bXAIsZ7eZ7c"
      }
    },
    {
      "cell_type": "markdown",
      "source": [
        "**AIM:** Write a program using Pandas library to create and display data frames from a\n",
        "CSV and explore the functionalities of dataframes."
      ],
      "metadata": {
        "id": "h-9CJsteebrf"
      }
    },
    {
      "cell_type": "markdown",
      "source": [
        "**(i) Loading and Printing first ten rows of dataset**"
      ],
      "metadata": {
        "id": "L3DQv_9Ye7WA"
      }
    },
    {
      "cell_type": "code",
      "source": [
        "import pandas as pd\n",
        "\n",
        "# Loading the dataset\n",
        "data = pd.read_csv('Automobile_data.csv')\n",
        "\n",
        "# Printing the first ten rows\n",
        "print(data.head(10))"
      ],
      "metadata": {
        "colab": {
          "base_uri": "https://localhost:8080/"
        },
        "id": "0TfrA0aRfEFZ",
        "outputId": "88aa1eb3-6f14-4463-d154-5ce5d9c042d9"
      },
      "execution_count": 13,
      "outputs": [
        {
          "output_type": "stream",
          "name": "stdout",
          "text": [
            "   index      company   body-style  wheel-base  length engine-type  \\\n",
            "0      0  alfa-romero  convertible        88.6   168.8        dohc   \n",
            "1      1  alfa-romero  convertible        88.6   168.8        dohc   \n",
            "2      2  alfa-romero    hatchback        94.5   171.2        ohcv   \n",
            "3      3         audi        sedan        99.8   176.6         ohc   \n",
            "4      4         audi        sedan        99.4   176.6         ohc   \n",
            "5      5         audi        sedan        99.8   177.3         ohc   \n",
            "6      6         audi        wagon       105.8   192.7         ohc   \n",
            "7      9          bmw        sedan       101.2   176.8         ohc   \n",
            "8     10          bmw        sedan       101.2   176.8         ohc   \n",
            "9     11          bmw        sedan       101.2   176.8         ohc   \n",
            "\n",
            "  num-of-cylinders  horsepower  average-mileage    price  \n",
            "0             four         111               21  13495.0  \n",
            "1             four         111               21  16500.0  \n",
            "2              six         154               19  16500.0  \n",
            "3             four         102               24  13950.0  \n",
            "4             five         115               18  17450.0  \n",
            "5             five         110               19  15250.0  \n",
            "6             five         110               19  18920.0  \n",
            "7             four         101               23  16430.0  \n",
            "8             four         101               23  16925.0  \n",
            "9              six         121               21  20970.0  \n"
          ]
        }
      ]
    },
    {
      "cell_type": "markdown",
      "source": [
        "**(ii) Dropping a column**"
      ],
      "metadata": {
        "id": "w5xoyGUffwCV"
      }
    },
    {
      "cell_type": "code",
      "source": [
        "# Dropping the 'length' column\n",
        "dropped_data = data.drop(columns=['length'])\n",
        "\n",
        "# Printing the dataframe after dropping the column\n",
        "print(dropped_data.head())\n"
      ],
      "metadata": {
        "colab": {
          "base_uri": "https://localhost:8080/"
        },
        "id": "NsA30ifSfyBJ",
        "outputId": "7d0f96fa-cc21-47dd-eeff-e82faba44f42"
      },
      "execution_count": 14,
      "outputs": [
        {
          "output_type": "stream",
          "name": "stdout",
          "text": [
            "   index      company   body-style  wheel-base engine-type num-of-cylinders  \\\n",
            "0      0  alfa-romero  convertible        88.6        dohc             four   \n",
            "1      1  alfa-romero  convertible        88.6        dohc             four   \n",
            "2      2  alfa-romero    hatchback        94.5        ohcv              six   \n",
            "3      3         audi        sedan        99.8         ohc             four   \n",
            "4      4         audi        sedan        99.4         ohc             five   \n",
            "\n",
            "   horsepower  average-mileage    price  \n",
            "0         111               21  13495.0  \n",
            "1         111               21  16500.0  \n",
            "2         154               19  16500.0  \n",
            "3         102               24  13950.0  \n",
            "4         115               18  17450.0  \n"
          ]
        }
      ]
    },
    {
      "cell_type": "markdown",
      "source": [
        "**(iii) Printing last five rows**"
      ],
      "metadata": {
        "id": "Z11hMn8rf6E7"
      }
    },
    {
      "cell_type": "code",
      "source": [
        "# Printing the last five rows\n",
        "print(data.tail(5))\n"
      ],
      "metadata": {
        "colab": {
          "base_uri": "https://localhost:8080/"
        },
        "id": "fqt7WTg1f8ms",
        "outputId": "45d3865c-b1dc-4f03-8fd7-244d0556f293"
      },
      "execution_count": 15,
      "outputs": [
        {
          "output_type": "stream",
          "name": "stdout",
          "text": [
            "    index     company body-style  wheel-base  length engine-type  \\\n",
            "56     81  volkswagen      sedan        97.3   171.7         ohc   \n",
            "57     82  volkswagen      sedan        97.3   171.7         ohc   \n",
            "58     86  volkswagen      sedan        97.3   171.7         ohc   \n",
            "59     87       volvo      sedan       104.3   188.8         ohc   \n",
            "60     88       volvo      wagon       104.3   188.8         ohc   \n",
            "\n",
            "   num-of-cylinders  horsepower  average-mileage    price  \n",
            "56             four          85               27   7975.0  \n",
            "57             four          52               37   7995.0  \n",
            "58             four         100               26   9995.0  \n",
            "59             four         114               23  12940.0  \n",
            "60             four         114               23  13415.0  \n"
          ]
        }
      ]
    },
    {
      "cell_type": "markdown",
      "source": [
        "**(iv) Print All Toyota Cars details**"
      ],
      "metadata": {
        "id": "hfLNZqv_f_hW"
      }
    },
    {
      "cell_type": "code",
      "source": [
        "# Printing all rows where the company is 'Toyota'\n",
        "toyota_cars = data[data['company'] == 'Toyota']\n",
        "print(toyota_cars)\n"
      ],
      "metadata": {
        "colab": {
          "base_uri": "https://localhost:8080/"
        },
        "id": "LCJhP5nrl5aI",
        "outputId": "a1a9c75c-b57d-43de-eb18-a2fbe438003e"
      },
      "execution_count": 16,
      "outputs": [
        {
          "output_type": "stream",
          "name": "stdout",
          "text": [
            "Empty DataFrame\n",
            "Columns: [index, company, body-style, wheel-base, length, engine-type, num-of-cylinders, horsepower, average-mileage, price]\n",
            "Index: []\n"
          ]
        }
      ]
    },
    {
      "cell_type": "markdown",
      "source": [
        "**(v) Count total cars per company**"
      ],
      "metadata": {
        "id": "hMQxHPfDpnm7"
      }
    },
    {
      "cell_type": "code",
      "source": [
        "# Counting total cars per company\n",
        "counts_of_cars = data['company'].value_counts()\n",
        "print(counts_of_cars)\n"
      ],
      "metadata": {
        "colab": {
          "base_uri": "https://localhost:8080/"
        },
        "id": "cAo2eQ-CppGx",
        "outputId": "ea403905-2294-47b5-a9e9-fbe2a0c8ad47"
      },
      "execution_count": 17,
      "outputs": [
        {
          "output_type": "stream",
          "name": "stdout",
          "text": [
            "company\n",
            "toyota           7\n",
            "bmw              6\n",
            "mazda            5\n",
            "nissan           5\n",
            "audi             4\n",
            "mercedes-benz    4\n",
            "mitsubishi       4\n",
            "volkswagen       4\n",
            "alfa-romero      3\n",
            "chevrolet        3\n",
            "honda            3\n",
            "isuzu            3\n",
            "jaguar           3\n",
            "porsche          3\n",
            "dodge            2\n",
            "volvo            2\n",
            "Name: count, dtype: int64\n"
          ]
        }
      ]
    },
    {
      "cell_type": "markdown",
      "source": [
        "**(vi) Find each company’s Highest price car**"
      ],
      "metadata": {
        "id": "6vnQYp1lpsWS"
      }
    },
    {
      "cell_type": "code",
      "source": [
        "# Finding each company’s highest price car\n",
        "highest_price_car = data.groupby('company')['price'].max()\n",
        "print(highest_price_car)\n"
      ],
      "metadata": {
        "colab": {
          "base_uri": "https://localhost:8080/"
        },
        "id": "mSVuulubpti3",
        "outputId": "8a667b32-7422-4699-8809-2b11430eb6e8"
      },
      "execution_count": 18,
      "outputs": [
        {
          "output_type": "stream",
          "name": "stdout",
          "text": [
            "company\n",
            "alfa-romero      16500.0\n",
            "audi             18920.0\n",
            "bmw              41315.0\n",
            "chevrolet         6575.0\n",
            "dodge             6377.0\n",
            "honda            12945.0\n",
            "isuzu             6785.0\n",
            "jaguar           36000.0\n",
            "mazda            18344.0\n",
            "mercedes-benz    45400.0\n",
            "mitsubishi        8189.0\n",
            "nissan           13499.0\n",
            "porsche          37028.0\n",
            "toyota           15750.0\n",
            "volkswagen        9995.0\n",
            "volvo            13415.0\n",
            "Name: price, dtype: float64\n"
          ]
        }
      ]
    },
    {
      "cell_type": "markdown",
      "source": [
        "**(vii) Getting average mileage of car**"
      ],
      "metadata": {
        "id": "af-QKmKppwbO"
      }
    },
    {
      "cell_type": "code",
      "source": [
        "# Calculating average mileage of all cars\n",
        "average_mileage = data['average-mileage'].mean()\n",
        "print(f\"Average mileage of all cars: {average_mileage}\")\n"
      ],
      "metadata": {
        "colab": {
          "base_uri": "https://localhost:8080/"
        },
        "id": "kKJERGwEp09V",
        "outputId": "92b3f2ff-2746-4b1e-a917-67da7cca1a61"
      },
      "execution_count": 19,
      "outputs": [
        {
          "output_type": "stream",
          "name": "stdout",
          "text": [
            "Average mileage of all cars: 25.80327868852459\n"
          ]
        }
      ]
    },
    {
      "cell_type": "markdown",
      "source": [
        "**(viii) Sort all cars by Price column**"
      ],
      "metadata": {
        "id": "vRAcoWzsp3bI"
      }
    },
    {
      "cell_type": "code",
      "source": [
        "# Sorting all cars by the 'price' column\n",
        "sorting_cars = data.sort_values(by='price', ascending=True)\n",
        "print(sorting_cars)\n"
      ],
      "metadata": {
        "id": "OOMD0asnp-8K",
        "colab": {
          "base_uri": "https://localhost:8080/"
        },
        "outputId": "39c7b32d-8d7e-48b4-b618-2adf1d3fde73"
      },
      "execution_count": 20,
      "outputs": [
        {
          "output_type": "stream",
          "name": "stdout",
          "text": [
            "    index        company body-style  wheel-base  length engine-type  \\\n",
            "13     16      chevrolet  hatchback        88.4   141.1           l   \n",
            "27     36          mazda  hatchback        93.1   159.1         ohc   \n",
            "48     66         toyota  hatchback        95.7   158.7         ohc   \n",
            "36     49     mitsubishi  hatchback        93.7   157.3         ohc   \n",
            "28     37          mazda  hatchback        93.1   159.1         ohc   \n",
            "..    ...            ...        ...         ...     ...         ...   \n",
            "11     14            bmw      sedan       103.5   193.8         ohc   \n",
            "35     47  mercedes-benz    hardtop       112.0   199.2        ohcv   \n",
            "22     31          isuzu      sedan        94.5   155.9         ohc   \n",
            "23     32          isuzu      sedan        94.5   155.9         ohc   \n",
            "47     63        porsche  hatchback        98.4   175.7       dohcv   \n",
            "\n",
            "   num-of-cylinders  horsepower  average-mileage    price  \n",
            "13            three          48               47   5151.0  \n",
            "27             four          68               30   5195.0  \n",
            "48             four          62               35   5348.0  \n",
            "36             four          68               37   5389.0  \n",
            "28             four          68               31   6095.0  \n",
            "..              ...         ...              ...      ...  \n",
            "11              six         182               16  41315.0  \n",
            "35            eight         184               14  45400.0  \n",
            "22             four          70               38      NaN  \n",
            "23             four          70               38      NaN  \n",
            "47            eight         288               17      NaN  \n",
            "\n",
            "[61 rows x 10 columns]\n"
          ]
        }
      ]
    }
  ]
}